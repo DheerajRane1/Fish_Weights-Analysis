{
 "cells": [
  {
   "cell_type": "code",
   "execution_count": 1,
   "id": "48b4199e",
   "metadata": {},
   "outputs": [],
   "source": [
    "import pandas as pd \n",
    "import numpy as np \n",
    "\n",
    "################# Machine Learning ################\n",
    "import statsmodels\n",
    "from statsmodels.stats.anova import anova_lm\n",
    "from statsmodels.stats.outliers_influence import variance_inflation_factor\n",
    "\n",
    "################# Data Visualization ################\n",
    "import seaborn as sns\n",
    "from matplotlib import pyplot as plt\n",
    "%matplotlib inline"
   ]
  },
  {
   "cell_type": "code",
   "execution_count": 2,
   "id": "59b02fdb",
   "metadata": {},
   "outputs": [
    {
     "data": {
      "text/html": [
       "<div>\n",
       "<style scoped>\n",
       "    .dataframe tbody tr th:only-of-type {\n",
       "        vertical-align: middle;\n",
       "    }\n",
       "\n",
       "    .dataframe tbody tr th {\n",
       "        vertical-align: top;\n",
       "    }\n",
       "\n",
       "    .dataframe thead th {\n",
       "        text-align: right;\n",
       "    }\n",
       "</style>\n",
       "<table border=\"1\" class=\"dataframe\">\n",
       "  <thead>\n",
       "    <tr style=\"text-align: right;\">\n",
       "      <th></th>\n",
       "      <th>Species</th>\n",
       "      <th>Weight</th>\n",
       "      <th>Length1</th>\n",
       "      <th>Length2</th>\n",
       "      <th>Length3</th>\n",
       "      <th>Height</th>\n",
       "      <th>Width</th>\n",
       "    </tr>\n",
       "  </thead>\n",
       "  <tbody>\n",
       "    <tr>\n",
       "      <th>0</th>\n",
       "      <td>Bream</td>\n",
       "      <td>242.0</td>\n",
       "      <td>23.2</td>\n",
       "      <td>25.4</td>\n",
       "      <td>30.0</td>\n",
       "      <td>11.5200</td>\n",
       "      <td>4.0200</td>\n",
       "    </tr>\n",
       "    <tr>\n",
       "      <th>1</th>\n",
       "      <td>Bream</td>\n",
       "      <td>290.0</td>\n",
       "      <td>24.0</td>\n",
       "      <td>26.3</td>\n",
       "      <td>31.2</td>\n",
       "      <td>12.4800</td>\n",
       "      <td>4.3056</td>\n",
       "    </tr>\n",
       "    <tr>\n",
       "      <th>2</th>\n",
       "      <td>Bream</td>\n",
       "      <td>340.0</td>\n",
       "      <td>23.9</td>\n",
       "      <td>26.5</td>\n",
       "      <td>31.1</td>\n",
       "      <td>12.3778</td>\n",
       "      <td>4.6961</td>\n",
       "    </tr>\n",
       "  </tbody>\n",
       "</table>\n",
       "</div>"
      ],
      "text/plain": [
       "  Species  Weight  Length1  Length2  Length3   Height   Width\n",
       "0   Bream   242.0     23.2     25.4     30.0  11.5200  4.0200\n",
       "1   Bream   290.0     24.0     26.3     31.2  12.4800  4.3056\n",
       "2   Bream   340.0     23.9     26.5     31.1  12.3778  4.6961"
      ]
     },
     "execution_count": 2,
     "metadata": {},
     "output_type": "execute_result"
    }
   ],
   "source": [
    "fish = pd.read_csv(r\"C:\\Users\\Dheeraj Rane\\Downloads\\LinearRegressionusingPython\\Linear Regression using Python\\Fish_dataset.csv\")\n",
    "fish.head(3)"
   ]
  },
  {
   "cell_type": "code",
   "execution_count": 3,
   "id": "34830f5d",
   "metadata": {},
   "outputs": [
    {
     "data": {
      "text/html": [
       "<div>\n",
       "<style scoped>\n",
       "    .dataframe tbody tr th:only-of-type {\n",
       "        vertical-align: middle;\n",
       "    }\n",
       "\n",
       "    .dataframe tbody tr th {\n",
       "        vertical-align: top;\n",
       "    }\n",
       "\n",
       "    .dataframe thead th {\n",
       "        text-align: right;\n",
       "    }\n",
       "</style>\n",
       "<table border=\"1\" class=\"dataframe\">\n",
       "  <thead>\n",
       "    <tr style=\"text-align: right;\">\n",
       "      <th></th>\n",
       "      <th>Weight</th>\n",
       "      <th>Length1</th>\n",
       "      <th>Length2</th>\n",
       "      <th>Length3</th>\n",
       "      <th>Height</th>\n",
       "      <th>Width</th>\n",
       "    </tr>\n",
       "  </thead>\n",
       "  <tbody>\n",
       "    <tr>\n",
       "      <th>0</th>\n",
       "      <td>242.0</td>\n",
       "      <td>23.2</td>\n",
       "      <td>25.4</td>\n",
       "      <td>30.0</td>\n",
       "      <td>11.5200</td>\n",
       "      <td>4.0200</td>\n",
       "    </tr>\n",
       "    <tr>\n",
       "      <th>1</th>\n",
       "      <td>290.0</td>\n",
       "      <td>24.0</td>\n",
       "      <td>26.3</td>\n",
       "      <td>31.2</td>\n",
       "      <td>12.4800</td>\n",
       "      <td>4.3056</td>\n",
       "    </tr>\n",
       "    <tr>\n",
       "      <th>2</th>\n",
       "      <td>340.0</td>\n",
       "      <td>23.9</td>\n",
       "      <td>26.5</td>\n",
       "      <td>31.1</td>\n",
       "      <td>12.3778</td>\n",
       "      <td>4.6961</td>\n",
       "    </tr>\n",
       "    <tr>\n",
       "      <th>3</th>\n",
       "      <td>363.0</td>\n",
       "      <td>26.3</td>\n",
       "      <td>29.0</td>\n",
       "      <td>33.5</td>\n",
       "      <td>12.7300</td>\n",
       "      <td>4.4555</td>\n",
       "    </tr>\n",
       "    <tr>\n",
       "      <th>4</th>\n",
       "      <td>430.0</td>\n",
       "      <td>26.5</td>\n",
       "      <td>29.0</td>\n",
       "      <td>34.0</td>\n",
       "      <td>12.4440</td>\n",
       "      <td>5.1340</td>\n",
       "    </tr>\n",
       "    <tr>\n",
       "      <th>...</th>\n",
       "      <td>...</td>\n",
       "      <td>...</td>\n",
       "      <td>...</td>\n",
       "      <td>...</td>\n",
       "      <td>...</td>\n",
       "      <td>...</td>\n",
       "    </tr>\n",
       "    <tr>\n",
       "      <th>154</th>\n",
       "      <td>12.2</td>\n",
       "      <td>11.5</td>\n",
       "      <td>12.2</td>\n",
       "      <td>13.4</td>\n",
       "      <td>2.0904</td>\n",
       "      <td>1.3936</td>\n",
       "    </tr>\n",
       "    <tr>\n",
       "      <th>155</th>\n",
       "      <td>13.4</td>\n",
       "      <td>11.7</td>\n",
       "      <td>12.4</td>\n",
       "      <td>13.5</td>\n",
       "      <td>2.4300</td>\n",
       "      <td>1.2690</td>\n",
       "    </tr>\n",
       "    <tr>\n",
       "      <th>156</th>\n",
       "      <td>12.2</td>\n",
       "      <td>12.1</td>\n",
       "      <td>13.0</td>\n",
       "      <td>13.8</td>\n",
       "      <td>2.2770</td>\n",
       "      <td>1.2558</td>\n",
       "    </tr>\n",
       "    <tr>\n",
       "      <th>157</th>\n",
       "      <td>19.7</td>\n",
       "      <td>13.2</td>\n",
       "      <td>14.3</td>\n",
       "      <td>15.2</td>\n",
       "      <td>2.8728</td>\n",
       "      <td>2.0672</td>\n",
       "    </tr>\n",
       "    <tr>\n",
       "      <th>158</th>\n",
       "      <td>19.9</td>\n",
       "      <td>13.8</td>\n",
       "      <td>15.0</td>\n",
       "      <td>16.2</td>\n",
       "      <td>2.9322</td>\n",
       "      <td>1.8792</td>\n",
       "    </tr>\n",
       "  </tbody>\n",
       "</table>\n",
       "<p>159 rows × 6 columns</p>\n",
       "</div>"
      ],
      "text/plain": [
       "     Weight  Length1  Length2  Length3   Height   Width\n",
       "0     242.0     23.2     25.4     30.0  11.5200  4.0200\n",
       "1     290.0     24.0     26.3     31.2  12.4800  4.3056\n",
       "2     340.0     23.9     26.5     31.1  12.3778  4.6961\n",
       "3     363.0     26.3     29.0     33.5  12.7300  4.4555\n",
       "4     430.0     26.5     29.0     34.0  12.4440  5.1340\n",
       "..      ...      ...      ...      ...      ...     ...\n",
       "154    12.2     11.5     12.2     13.4   2.0904  1.3936\n",
       "155    13.4     11.7     12.4     13.5   2.4300  1.2690\n",
       "156    12.2     12.1     13.0     13.8   2.2770  1.2558\n",
       "157    19.7     13.2     14.3     15.2   2.8728  2.0672\n",
       "158    19.9     13.8     15.0     16.2   2.9322  1.8792\n",
       "\n",
       "[159 rows x 6 columns]"
      ]
     },
     "execution_count": 3,
     "metadata": {},
     "output_type": "execute_result"
    }
   ],
   "source": [
    "df1 = fish.drop('Species',axis=1)\n",
    "df1"
   ]
  },
  {
   "cell_type": "code",
   "execution_count": 4,
   "id": "91d8c1ec",
   "metadata": {},
   "outputs": [
    {
     "name": "stdout",
     "output_type": "stream",
     "text": [
      "<class 'pandas.core.frame.DataFrame'>\n",
      "RangeIndex: 159 entries, 0 to 158\n",
      "Data columns (total 7 columns):\n",
      " #   Column   Non-Null Count  Dtype  \n",
      "---  ------   --------------  -----  \n",
      " 0   Species  159 non-null    object \n",
      " 1   Weight   159 non-null    float64\n",
      " 2   Length1  159 non-null    float64\n",
      " 3   Length2  159 non-null    float64\n",
      " 4   Length3  159 non-null    float64\n",
      " 5   Height   159 non-null    float64\n",
      " 6   Width    159 non-null    float64\n",
      "dtypes: float64(6), object(1)\n",
      "memory usage: 8.8+ KB\n"
     ]
    }
   ],
   "source": [
    "fish.info()"
   ]
  },
  {
   "cell_type": "code",
   "execution_count": 5,
   "id": "44436fc6",
   "metadata": {},
   "outputs": [
    {
     "data": {
      "text/html": [
       "<div>\n",
       "<style scoped>\n",
       "    .dataframe tbody tr th:only-of-type {\n",
       "        vertical-align: middle;\n",
       "    }\n",
       "\n",
       "    .dataframe tbody tr th {\n",
       "        vertical-align: top;\n",
       "    }\n",
       "\n",
       "    .dataframe thead th {\n",
       "        text-align: right;\n",
       "    }\n",
       "</style>\n",
       "<table border=\"1\" class=\"dataframe\">\n",
       "  <thead>\n",
       "    <tr style=\"text-align: right;\">\n",
       "      <th></th>\n",
       "      <th>Weight</th>\n",
       "      <th>Length1</th>\n",
       "      <th>Length2</th>\n",
       "      <th>Length3</th>\n",
       "      <th>Height</th>\n",
       "      <th>Width</th>\n",
       "    </tr>\n",
       "  </thead>\n",
       "  <tbody>\n",
       "    <tr>\n",
       "      <th>0</th>\n",
       "      <td>15.556349</td>\n",
       "      <td>4.816638</td>\n",
       "      <td>5.039841</td>\n",
       "      <td>5.477226</td>\n",
       "      <td>3.394113</td>\n",
       "      <td>2.004994</td>\n",
       "    </tr>\n",
       "    <tr>\n",
       "      <th>1</th>\n",
       "      <td>17.029386</td>\n",
       "      <td>4.898979</td>\n",
       "      <td>5.128353</td>\n",
       "      <td>5.585696</td>\n",
       "      <td>3.532704</td>\n",
       "      <td>2.074994</td>\n",
       "    </tr>\n",
       "    <tr>\n",
       "      <th>2</th>\n",
       "      <td>18.439089</td>\n",
       "      <td>4.888763</td>\n",
       "      <td>5.147815</td>\n",
       "      <td>5.576737</td>\n",
       "      <td>3.518210</td>\n",
       "      <td>2.167049</td>\n",
       "    </tr>\n",
       "    <tr>\n",
       "      <th>3</th>\n",
       "      <td>19.052559</td>\n",
       "      <td>5.128353</td>\n",
       "      <td>5.385165</td>\n",
       "      <td>5.787918</td>\n",
       "      <td>3.567913</td>\n",
       "      <td>2.110806</td>\n",
       "    </tr>\n",
       "    <tr>\n",
       "      <th>4</th>\n",
       "      <td>20.736441</td>\n",
       "      <td>5.147815</td>\n",
       "      <td>5.385165</td>\n",
       "      <td>5.830952</td>\n",
       "      <td>3.527605</td>\n",
       "      <td>2.265833</td>\n",
       "    </tr>\n",
       "    <tr>\n",
       "      <th>...</th>\n",
       "      <td>...</td>\n",
       "      <td>...</td>\n",
       "      <td>...</td>\n",
       "      <td>...</td>\n",
       "      <td>...</td>\n",
       "      <td>...</td>\n",
       "    </tr>\n",
       "    <tr>\n",
       "      <th>154</th>\n",
       "      <td>3.492850</td>\n",
       "      <td>3.391165</td>\n",
       "      <td>3.492850</td>\n",
       "      <td>3.660601</td>\n",
       "      <td>1.445822</td>\n",
       "      <td>1.180508</td>\n",
       "    </tr>\n",
       "    <tr>\n",
       "      <th>155</th>\n",
       "      <td>3.660601</td>\n",
       "      <td>3.420526</td>\n",
       "      <td>3.521363</td>\n",
       "      <td>3.674235</td>\n",
       "      <td>1.558846</td>\n",
       "      <td>1.126499</td>\n",
       "    </tr>\n",
       "    <tr>\n",
       "      <th>156</th>\n",
       "      <td>3.492850</td>\n",
       "      <td>3.478505</td>\n",
       "      <td>3.605551</td>\n",
       "      <td>3.714835</td>\n",
       "      <td>1.508973</td>\n",
       "      <td>1.120625</td>\n",
       "    </tr>\n",
       "    <tr>\n",
       "      <th>157</th>\n",
       "      <td>4.438468</td>\n",
       "      <td>3.633180</td>\n",
       "      <td>3.781534</td>\n",
       "      <td>3.898718</td>\n",
       "      <td>1.694934</td>\n",
       "      <td>1.437776</td>\n",
       "    </tr>\n",
       "    <tr>\n",
       "      <th>158</th>\n",
       "      <td>4.460942</td>\n",
       "      <td>3.714835</td>\n",
       "      <td>3.872983</td>\n",
       "      <td>4.024922</td>\n",
       "      <td>1.712367</td>\n",
       "      <td>1.370839</td>\n",
       "    </tr>\n",
       "  </tbody>\n",
       "</table>\n",
       "<p>159 rows × 6 columns</p>\n",
       "</div>"
      ],
      "text/plain": [
       "        Weight   Length1   Length2   Length3    Height     Width\n",
       "0    15.556349  4.816638  5.039841  5.477226  3.394113  2.004994\n",
       "1    17.029386  4.898979  5.128353  5.585696  3.532704  2.074994\n",
       "2    18.439089  4.888763  5.147815  5.576737  3.518210  2.167049\n",
       "3    19.052559  5.128353  5.385165  5.787918  3.567913  2.110806\n",
       "4    20.736441  5.147815  5.385165  5.830952  3.527605  2.265833\n",
       "..         ...       ...       ...       ...       ...       ...\n",
       "154   3.492850  3.391165  3.492850  3.660601  1.445822  1.180508\n",
       "155   3.660601  3.420526  3.521363  3.674235  1.558846  1.126499\n",
       "156   3.492850  3.478505  3.605551  3.714835  1.508973  1.120625\n",
       "157   4.438468  3.633180  3.781534  3.898718  1.694934  1.437776\n",
       "158   4.460942  3.714835  3.872983  4.024922  1.712367  1.370839\n",
       "\n",
       "[159 rows x 6 columns]"
      ]
     },
     "execution_count": 5,
     "metadata": {},
     "output_type": "execute_result"
    }
   ],
   "source": [
    "fish1 = np.sqrt(df1)\n",
    "fish1\n"
   ]
  },
  {
   "cell_type": "code",
   "execution_count": 6,
   "id": "f6789cad",
   "metadata": {},
   "outputs": [
    {
     "data": {
      "text/html": [
       "<div>\n",
       "<style scoped>\n",
       "    .dataframe tbody tr th:only-of-type {\n",
       "        vertical-align: middle;\n",
       "    }\n",
       "\n",
       "    .dataframe tbody tr th {\n",
       "        vertical-align: top;\n",
       "    }\n",
       "\n",
       "    .dataframe thead th {\n",
       "        text-align: right;\n",
       "    }\n",
       "</style>\n",
       "<table border=\"1\" class=\"dataframe\">\n",
       "  <thead>\n",
       "    <tr style=\"text-align: right;\">\n",
       "      <th></th>\n",
       "      <th>Weight</th>\n",
       "      <th>Length1</th>\n",
       "      <th>Length2</th>\n",
       "      <th>Length3</th>\n",
       "      <th>Height</th>\n",
       "      <th>Width</th>\n",
       "    </tr>\n",
       "  </thead>\n",
       "  <tbody>\n",
       "    <tr>\n",
       "      <th>count</th>\n",
       "      <td>159.000000</td>\n",
       "      <td>159.000000</td>\n",
       "      <td>159.000000</td>\n",
       "      <td>159.000000</td>\n",
       "      <td>159.000000</td>\n",
       "      <td>159.000000</td>\n",
       "    </tr>\n",
       "    <tr>\n",
       "      <th>mean</th>\n",
       "      <td>17.716719</td>\n",
       "      <td>5.029283</td>\n",
       "      <td>5.233873</td>\n",
       "      <td>5.487472</td>\n",
       "      <td>2.902346</td>\n",
       "      <td>2.057927</td>\n",
       "    </tr>\n",
       "    <tr>\n",
       "      <th>std</th>\n",
       "      <td>9.218392</td>\n",
       "      <td>0.979548</td>\n",
       "      <td>1.014279</td>\n",
       "      <td>1.059127</td>\n",
       "      <td>0.742191</td>\n",
       "      <td>0.428459</td>\n",
       "    </tr>\n",
       "    <tr>\n",
       "      <th>min</th>\n",
       "      <td>0.000000</td>\n",
       "      <td>2.738613</td>\n",
       "      <td>2.898275</td>\n",
       "      <td>2.966479</td>\n",
       "      <td>1.314686</td>\n",
       "      <td>1.023523</td>\n",
       "    </tr>\n",
       "    <tr>\n",
       "      <th>25%</th>\n",
       "      <td>10.954451</td>\n",
       "      <td>4.364627</td>\n",
       "      <td>4.582576</td>\n",
       "      <td>4.811442</td>\n",
       "      <td>2.438195</td>\n",
       "      <td>1.840012</td>\n",
       "    </tr>\n",
       "    <tr>\n",
       "      <th>50%</th>\n",
       "      <td>16.522712</td>\n",
       "      <td>5.019960</td>\n",
       "      <td>5.224940</td>\n",
       "      <td>5.422177</td>\n",
       "      <td>2.790340</td>\n",
       "      <td>2.061189</td>\n",
       "    </tr>\n",
       "    <tr>\n",
       "      <th>75%</th>\n",
       "      <td>25.495098</td>\n",
       "      <td>5.718391</td>\n",
       "      <td>5.958040</td>\n",
       "      <td>6.296823</td>\n",
       "      <td>3.516518</td>\n",
       "      <td>2.363154</td>\n",
       "    </tr>\n",
       "    <tr>\n",
       "      <th>max</th>\n",
       "      <td>40.620192</td>\n",
       "      <td>7.681146</td>\n",
       "      <td>7.962412</td>\n",
       "      <td>8.246211</td>\n",
       "      <td>4.353964</td>\n",
       "      <td>2.853419</td>\n",
       "    </tr>\n",
       "  </tbody>\n",
       "</table>\n",
       "</div>"
      ],
      "text/plain": [
       "           Weight     Length1     Length2     Length3      Height       Width\n",
       "count  159.000000  159.000000  159.000000  159.000000  159.000000  159.000000\n",
       "mean    17.716719    5.029283    5.233873    5.487472    2.902346    2.057927\n",
       "std      9.218392    0.979548    1.014279    1.059127    0.742191    0.428459\n",
       "min      0.000000    2.738613    2.898275    2.966479    1.314686    1.023523\n",
       "25%     10.954451    4.364627    4.582576    4.811442    2.438195    1.840012\n",
       "50%     16.522712    5.019960    5.224940    5.422177    2.790340    2.061189\n",
       "75%     25.495098    5.718391    5.958040    6.296823    3.516518    2.363154\n",
       "max     40.620192    7.681146    7.962412    8.246211    4.353964    2.853419"
      ]
     },
     "execution_count": 6,
     "metadata": {},
     "output_type": "execute_result"
    }
   ],
   "source": [
    "fish1.describe()"
   ]
  },
  {
   "cell_type": "code",
   "execution_count": 7,
   "id": "59c7bf64",
   "metadata": {},
   "outputs": [
    {
     "data": {
      "text/plain": [
       "<AxesSubplot:>"
      ]
     },
     "execution_count": 7,
     "metadata": {},
     "output_type": "execute_result"
    },
    {
     "data": {
      "image/png": "[encoded data removed]",
      "text/plain": [
       "<Figure size 432x288 with 1 Axes>"
      ]
     },
     "metadata": {
      "needs_background": "light"
     },
     "output_type": "display_data"
    }
   ],
   "source": [
    "sns.boxplot(data=fish1)"
   ]
  },
  {
   "cell_type": "code",
   "execution_count": 8,
   "id": "94801fd4",
   "metadata": {},
   "outputs": [
    {
     "data": {
      "text/plain": [
       "1.5784409999999998"
      ]
     },
     "execution_count": 8,
     "metadata": {},
     "output_type": "execute_result"
    }
   ],
   "source": [
    "outlier_width=2.363154-1.5*(2.363154-1.840012)\n",
    "outlier_width"
   ]
  },
  {
   "cell_type": "code",
   "execution_count": 9,
   "id": "9c20cbf3",
   "metadata": {},
   "outputs": [
    {
     "data": {
      "text/html": [
       "<div>\n",
       "<style scoped>\n",
       "    .dataframe tbody tr th:only-of-type {\n",
       "        vertical-align: middle;\n",
       "    }\n",
       "\n",
       "    .dataframe tbody tr th {\n",
       "        vertical-align: top;\n",
       "    }\n",
       "\n",
       "    .dataframe thead th {\n",
       "        text-align: right;\n",
       "    }\n",
       "</style>\n",
       "<table border=\"1\" class=\"dataframe\">\n",
       "  <thead>\n",
       "    <tr style=\"text-align: right;\">\n",
       "      <th></th>\n",
       "      <th>Weight</th>\n",
       "      <th>Length1</th>\n",
       "      <th>Length2</th>\n",
       "      <th>Length3</th>\n",
       "      <th>Height</th>\n",
       "      <th>Width</th>\n",
       "    </tr>\n",
       "  </thead>\n",
       "  <tbody>\n",
       "    <tr>\n",
       "      <th>0</th>\n",
       "      <td>15.556349</td>\n",
       "      <td>4.816638</td>\n",
       "      <td>5.039841</td>\n",
       "      <td>5.477226</td>\n",
       "      <td>3.394113</td>\n",
       "      <td>2.004994</td>\n",
       "    </tr>\n",
       "    <tr>\n",
       "      <th>1</th>\n",
       "      <td>17.029386</td>\n",
       "      <td>4.898979</td>\n",
       "      <td>5.128353</td>\n",
       "      <td>5.585696</td>\n",
       "      <td>3.532704</td>\n",
       "      <td>2.074994</td>\n",
       "    </tr>\n",
       "    <tr>\n",
       "      <th>2</th>\n",
       "      <td>18.439089</td>\n",
       "      <td>4.888763</td>\n",
       "      <td>5.147815</td>\n",
       "      <td>5.576737</td>\n",
       "      <td>3.518210</td>\n",
       "      <td>2.167049</td>\n",
       "    </tr>\n",
       "    <tr>\n",
       "      <th>3</th>\n",
       "      <td>19.052559</td>\n",
       "      <td>5.128353</td>\n",
       "      <td>5.385165</td>\n",
       "      <td>5.787918</td>\n",
       "      <td>3.567913</td>\n",
       "      <td>2.110806</td>\n",
       "    </tr>\n",
       "    <tr>\n",
       "      <th>4</th>\n",
       "      <td>20.736441</td>\n",
       "      <td>5.147815</td>\n",
       "      <td>5.385165</td>\n",
       "      <td>5.830952</td>\n",
       "      <td>3.527605</td>\n",
       "      <td>2.265833</td>\n",
       "    </tr>\n",
       "    <tr>\n",
       "      <th>...</th>\n",
       "      <td>...</td>\n",
       "      <td>...</td>\n",
       "      <td>...</td>\n",
       "      <td>...</td>\n",
       "      <td>...</td>\n",
       "      <td>...</td>\n",
       "    </tr>\n",
       "    <tr>\n",
       "      <th>154</th>\n",
       "      <td>3.492850</td>\n",
       "      <td>3.391165</td>\n",
       "      <td>3.492850</td>\n",
       "      <td>3.660601</td>\n",
       "      <td>1.445822</td>\n",
       "      <td>1.578441</td>\n",
       "    </tr>\n",
       "    <tr>\n",
       "      <th>155</th>\n",
       "      <td>3.660601</td>\n",
       "      <td>3.420526</td>\n",
       "      <td>3.521363</td>\n",
       "      <td>3.674235</td>\n",
       "      <td>1.558846</td>\n",
       "      <td>1.578441</td>\n",
       "    </tr>\n",
       "    <tr>\n",
       "      <th>156</th>\n",
       "      <td>3.492850</td>\n",
       "      <td>3.478505</td>\n",
       "      <td>3.605551</td>\n",
       "      <td>3.714835</td>\n",
       "      <td>1.508973</td>\n",
       "      <td>1.578441</td>\n",
       "    </tr>\n",
       "    <tr>\n",
       "      <th>157</th>\n",
       "      <td>4.438468</td>\n",
       "      <td>3.633180</td>\n",
       "      <td>3.781534</td>\n",
       "      <td>3.898718</td>\n",
       "      <td>1.694934</td>\n",
       "      <td>1.578441</td>\n",
       "    </tr>\n",
       "    <tr>\n",
       "      <th>158</th>\n",
       "      <td>4.460942</td>\n",
       "      <td>3.714835</td>\n",
       "      <td>3.872983</td>\n",
       "      <td>4.024922</td>\n",
       "      <td>1.712367</td>\n",
       "      <td>1.578441</td>\n",
       "    </tr>\n",
       "  </tbody>\n",
       "</table>\n",
       "<p>159 rows × 6 columns</p>\n",
       "</div>"
      ],
      "text/plain": [
       "        Weight   Length1   Length2   Length3    Height     Width\n",
       "0    15.556349  4.816638  5.039841  5.477226  3.394113  2.004994\n",
       "1    17.029386  4.898979  5.128353  5.585696  3.532704  2.074994\n",
       "2    18.439089  4.888763  5.147815  5.576737  3.518210  2.167049\n",
       "3    19.052559  5.128353  5.385165  5.787918  3.567913  2.110806\n",
       "4    20.736441  5.147815  5.385165  5.830952  3.527605  2.265833\n",
       "..         ...       ...       ...       ...       ...       ...\n",
       "154   3.492850  3.391165  3.492850  3.660601  1.445822  1.578441\n",
       "155   3.660601  3.420526  3.521363  3.674235  1.558846  1.578441\n",
       "156   3.492850  3.478505  3.605551  3.714835  1.508973  1.578441\n",
       "157   4.438468  3.633180  3.781534  3.898718  1.694934  1.578441\n",
       "158   4.460942  3.714835  3.872983  4.024922  1.712367  1.578441\n",
       "\n",
       "[159 rows x 6 columns]"
      ]
     },
     "execution_count": 9,
     "metadata": {},
     "output_type": "execute_result"
    }
   ],
   "source": [
    "fish1['Width']=np.where(fish1['Width']<outlier_width,outlier_width,fish1['Width'])\n",
    "fish1"
   ]
  },
  {
   "cell_type": "code",
   "execution_count": 10,
   "id": "9401a804",
   "metadata": {},
   "outputs": [
    {
     "data": {
      "text/plain": [
       "<AxesSubplot:>"
      ]
     },
     "execution_count": 10,
     "metadata": {},
     "output_type": "execute_result"
    },
    {
     "data": {
      "image/png": "[encoded data removed]",
      "text/plain": [
       "<Figure size 432x288 with 1 Axes>"
      ]
     },
     "metadata": {
      "needs_background": "light"
     },
     "output_type": "display_data"
    }
   ],
   "source": [
    "sns.boxplot(data=fish1)"
   ]
  },
  {
   "cell_type": "code",
   "execution_count": 11,
   "id": "6a11eec2",
   "metadata": {},
   "outputs": [],
   "source": [
    "x = fish1.drop('Weight',axis=1)\n",
    "y = fish1[['Weight']]"
   ]
  },
  {
   "cell_type": "code",
   "execution_count": 12,
   "id": "26b0e427",
   "metadata": {},
   "outputs": [],
   "source": [
    "from sklearn.model_selection import train_test_split\n",
    "x_train,x_test,y_train,y_test = train_test_split(x,y,train_size=0.70,random_state=1)"
   ]
  },
  {
   "cell_type": "code",
   "execution_count": 13,
   "id": "13d8e882",
   "metadata": {},
   "outputs": [
    {
     "data": {
      "text/html": [
       "<div>\n",
       "<style scoped>\n",
       "    .dataframe tbody tr th:only-of-type {\n",
       "        vertical-align: middle;\n",
       "    }\n",
       "\n",
       "    .dataframe tbody tr th {\n",
       "        vertical-align: top;\n",
       "    }\n",
       "\n",
       "    .dataframe thead th {\n",
       "        text-align: right;\n",
       "    }\n",
       "</style>\n",
       "<table border=\"1\" class=\"dataframe\">\n",
       "  <thead>\n",
       "    <tr style=\"text-align: right;\">\n",
       "      <th></th>\n",
       "      <th>Weight</th>\n",
       "      <th>Length1</th>\n",
       "      <th>Length2</th>\n",
       "      <th>Length3</th>\n",
       "      <th>Height</th>\n",
       "      <th>Width</th>\n",
       "    </tr>\n",
       "  </thead>\n",
       "  <tbody>\n",
       "    <tr>\n",
       "      <th>53</th>\n",
       "      <td>16.492423</td>\n",
       "      <td>5.000000</td>\n",
       "      <td>5.196152</td>\n",
       "      <td>5.531727</td>\n",
       "      <td>2.927115</td>\n",
       "      <td>2.184857</td>\n",
       "    </tr>\n",
       "    <tr>\n",
       "      <th>117</th>\n",
       "      <td>25.495098</td>\n",
       "      <td>6.041523</td>\n",
       "      <td>6.244998</td>\n",
       "      <td>6.434283</td>\n",
       "      <td>3.337154</td>\n",
       "      <td>2.450102</td>\n",
       "    </tr>\n",
       "    <tr>\n",
       "      <th>136</th>\n",
       "      <td>23.237900</td>\n",
       "      <td>6.332456</td>\n",
       "      <td>6.557439</td>\n",
       "      <td>6.767570</td>\n",
       "      <td>2.790340</td>\n",
       "      <td>2.264862</td>\n",
       "    </tr>\n",
       "    <tr>\n",
       "      <th>17</th>\n",
       "      <td>26.457513</td>\n",
       "      <td>5.513620</td>\n",
       "      <td>5.744563</td>\n",
       "      <td>6.204837</td>\n",
       "      <td>3.864971</td>\n",
       "      <td>2.279803</td>\n",
       "    </tr>\n",
       "    <tr>\n",
       "      <th>77</th>\n",
       "      <td>10.000000</td>\n",
       "      <td>4.024922</td>\n",
       "      <td>4.242641</td>\n",
       "      <td>4.381780</td>\n",
       "      <td>2.285257</td>\n",
       "      <td>1.822526</td>\n",
       "    </tr>\n",
       "    <tr>\n",
       "      <th>...</th>\n",
       "      <td>...</td>\n",
       "      <td>...</td>\n",
       "      <td>...</td>\n",
       "      <td>...</td>\n",
       "      <td>...</td>\n",
       "      <td>...</td>\n",
       "    </tr>\n",
       "    <tr>\n",
       "      <th>133</th>\n",
       "      <td>18.574176</td>\n",
       "      <td>6.000000</td>\n",
       "      <td>6.204837</td>\n",
       "      <td>6.403124</td>\n",
       "      <td>2.529031</td>\n",
       "      <td>1.994242</td>\n",
       "    </tr>\n",
       "    <tr>\n",
       "      <th>137</th>\n",
       "      <td>22.360680</td>\n",
       "      <td>6.480741</td>\n",
       "      <td>6.708204</td>\n",
       "      <td>6.928203</td>\n",
       "      <td>2.638181</td>\n",
       "      <td>2.212691</td>\n",
       "    </tr>\n",
       "    <tr>\n",
       "      <th>72</th>\n",
       "      <td>2.428992</td>\n",
       "      <td>2.738613</td>\n",
       "      <td>2.898275</td>\n",
       "      <td>2.966479</td>\n",
       "      <td>1.453272</td>\n",
       "      <td>1.578441</td>\n",
       "    </tr>\n",
       "    <tr>\n",
       "      <th>140</th>\n",
       "      <td>30.822070</td>\n",
       "      <td>6.949820</td>\n",
       "      <td>7.190271</td>\n",
       "      <td>7.422937</td>\n",
       "      <td>2.987675</td>\n",
       "      <td>2.484190</td>\n",
       "    </tr>\n",
       "    <tr>\n",
       "      <th>37</th>\n",
       "      <td>8.831761</td>\n",
       "      <td>4.183300</td>\n",
       "      <td>4.335897</td>\n",
       "      <td>4.604346</td>\n",
       "      <td>2.361271</td>\n",
       "      <td>1.704230</td>\n",
       "    </tr>\n",
       "  </tbody>\n",
       "</table>\n",
       "<p>111 rows × 6 columns</p>\n",
       "</div>"
      ],
      "text/plain": [
       "        Weight   Length1   Length2   Length3    Height     Width\n",
       "53   16.492423  5.000000  5.196152  5.531727  2.927115  2.184857\n",
       "117  25.495098  6.041523  6.244998  6.434283  3.337154  2.450102\n",
       "136  23.237900  6.332456  6.557439  6.767570  2.790340  2.264862\n",
       "17   26.457513  5.513620  5.744563  6.204837  3.864971  2.279803\n",
       "77   10.000000  4.024922  4.242641  4.381780  2.285257  1.822526\n",
       "..         ...       ...       ...       ...       ...       ...\n",
       "133  18.574176  6.000000  6.204837  6.403124  2.529031  1.994242\n",
       "137  22.360680  6.480741  6.708204  6.928203  2.638181  2.212691\n",
       "72    2.428992  2.738613  2.898275  2.966479  1.453272  1.578441\n",
       "140  30.822070  6.949820  7.190271  7.422937  2.987675  2.484190\n",
       "37    8.831761  4.183300  4.335897  4.604346  2.361271  1.704230\n",
       "\n",
       "[111 rows x 6 columns]"
      ]
     },
     "execution_count": 13,
     "metadata": {},
     "output_type": "execute_result"
    }
   ],
   "source": [
    "result = pd.concat([y_train,x_train],axis=1)\n",
    "result"
   ]
  },
  {
   "cell_type": "code",
   "execution_count": 14,
   "id": "6aff803c",
   "metadata": {},
   "outputs": [
    {
     "data": {
      "text/html": [
       "<div>\n",
       "<style scoped>\n",
       "    .dataframe tbody tr th:only-of-type {\n",
       "        vertical-align: middle;\n",
       "    }\n",
       "\n",
       "    .dataframe tbody tr th {\n",
       "        vertical-align: top;\n",
       "    }\n",
       "\n",
       "    .dataframe thead th {\n",
       "        text-align: right;\n",
       "    }\n",
       "</style>\n",
       "<table border=\"1\" class=\"dataframe\">\n",
       "  <thead>\n",
       "    <tr style=\"text-align: right;\">\n",
       "      <th></th>\n",
       "      <th>Weight</th>\n",
       "      <th>Length1</th>\n",
       "      <th>Length2</th>\n",
       "      <th>Length3</th>\n",
       "      <th>Height</th>\n",
       "      <th>Width</th>\n",
       "    </tr>\n",
       "  </thead>\n",
       "  <tbody>\n",
       "    <tr>\n",
       "      <th>Weight</th>\n",
       "      <td>1.000000</td>\n",
       "      <td>0.950807</td>\n",
       "      <td>0.953423</td>\n",
       "      <td>0.957771</td>\n",
       "      <td>0.814671</td>\n",
       "      <td>0.963430</td>\n",
       "    </tr>\n",
       "    <tr>\n",
       "      <th>Length1</th>\n",
       "      <td>0.950807</td>\n",
       "      <td>1.000000</td>\n",
       "      <td>0.999490</td>\n",
       "      <td>0.993598</td>\n",
       "      <td>0.701353</td>\n",
       "      <td>0.892514</td>\n",
       "    </tr>\n",
       "    <tr>\n",
       "      <th>Length2</th>\n",
       "      <td>0.953423</td>\n",
       "      <td>0.999490</td>\n",
       "      <td>1.000000</td>\n",
       "      <td>0.995222</td>\n",
       "      <td>0.714427</td>\n",
       "      <td>0.895105</td>\n",
       "    </tr>\n",
       "    <tr>\n",
       "      <th>Length3</th>\n",
       "      <td>0.957771</td>\n",
       "      <td>0.993598</td>\n",
       "      <td>0.995222</td>\n",
       "      <td>1.000000</td>\n",
       "      <td>0.761939</td>\n",
       "      <td>0.896866</td>\n",
       "    </tr>\n",
       "    <tr>\n",
       "      <th>Height</th>\n",
       "      <td>0.814671</td>\n",
       "      <td>0.701353</td>\n",
       "      <td>0.714427</td>\n",
       "      <td>0.761939</td>\n",
       "      <td>1.000000</td>\n",
       "      <td>0.803165</td>\n",
       "    </tr>\n",
       "    <tr>\n",
       "      <th>Width</th>\n",
       "      <td>0.963430</td>\n",
       "      <td>0.892514</td>\n",
       "      <td>0.895105</td>\n",
       "      <td>0.896866</td>\n",
       "      <td>0.803165</td>\n",
       "      <td>1.000000</td>\n",
       "    </tr>\n",
       "  </tbody>\n",
       "</table>\n",
       "</div>"
      ],
      "text/plain": [
       "           Weight   Length1   Length2   Length3    Height     Width\n",
       "Weight   1.000000  0.950807  0.953423  0.957771  0.814671  0.963430\n",
       "Length1  0.950807  1.000000  0.999490  0.993598  0.701353  0.892514\n",
       "Length2  0.953423  0.999490  1.000000  0.995222  0.714427  0.895105\n",
       "Length3  0.957771  0.993598  0.995222  1.000000  0.761939  0.896866\n",
       "Height   0.814671  0.701353  0.714427  0.761939  1.000000  0.803165\n",
       "Width    0.963430  0.892514  0.895105  0.896866  0.803165  1.000000"
      ]
     },
     "execution_count": 14,
     "metadata": {},
     "output_type": "execute_result"
    }
   ],
   "source": [
    "result.corr()"
   ]
  },
  {
   "cell_type": "code",
   "execution_count": 15,
   "id": "0f937a9a",
   "metadata": {},
   "outputs": [
    {
     "data": {
      "text/plain": [
       "<AxesSubplot:>"
      ]
     },
     "execution_count": 15,
     "metadata": {},
     "output_type": "execute_result"
    },
    {
     "data": {
      "image/png": "[encoded data removed]",
      "text/plain": [
       "<Figure size 432x288 with 2 Axes>"
      ]
     },
     "metadata": {
      "needs_background": "light"
     },
     "output_type": "display_data"
    }
   ],
   "source": [
    "sns.heatmap(result.corr(),annot=True)"
   ]
  },
  {
   "cell_type": "code",
   "execution_count": 16,
   "id": "8eb148e2",
   "metadata": {},
   "outputs": [
    {
     "data": {
      "text/plain": [
       "<AxesSubplot:xlabel='Width', ylabel='Weight'>"
      ]
     },
     "execution_count": 16,
     "metadata": {},
     "output_type": "execute_result"
    },
    {
     "data": {
      "image/png": "[encoded data removed]",
      "text/plain": [
       "<Figure size 432x288 with 1 Axes>"
      ]
     },
     "metadata": {
      "needs_background": "light"
     },
     "output_type": "display_data"
    }
   ],
   "source": [
    "result.plot.scatter(x='Width',y='Weight')"
   ]
  },
  {
   "cell_type": "code",
   "execution_count": 17,
   "id": "3ee52f22",
   "metadata": {},
   "outputs": [
    {
     "data": {
      "text/plain": [
       "Length1    37339.509821\n",
       "Length2    40419.712312\n",
       "Length3     6939.538909\n",
       "Height       138.016982\n",
       "Width        191.390191\n",
       "dtype: float64"
      ]
     },
     "execution_count": 17,
     "metadata": {},
     "output_type": "execute_result"
    }
   ],
   "source": [
    "X1=result.drop(['Weight'],axis=1)\n",
    "series_before = pd.Series([variance_inflation_factor(X1.values, i) \n",
    "                           for i in range(X1.shape[1])],  # i=0,1,2\n",
    "                          index=X1.columns)  # column name\n",
    "series_before"
   ]
  },
  {
   "cell_type": "code",
   "execution_count": 18,
   "id": "b85f5e66",
   "metadata": {},
   "outputs": [
    {
     "data": {
      "text/html": [
       "<table class=\"simpletable\">\n",
       "<caption>OLS Regression Results</caption>\n",
       "<tr>\n",
       "  <th>Dep. Variable:</th>         <td>Weight</td>      <th>  R-squared:         </th> <td>   0.975</td>\n",
       "</tr>\n",
       "<tr>\n",
       "  <th>Model:</th>                   <td>OLS</td>       <th>  Adj. R-squared:    </th> <td>   0.974</td>\n",
       "</tr>\n",
       "<tr>\n",
       "  <th>Method:</th>             <td>Least Squares</td>  <th>  F-statistic:       </th> <td>   830.1</td>\n",
       "</tr>\n",
       "<tr>\n",
       "  <th>Date:</th>             <td>Tue, 24 May 2022</td> <th>  Prob (F-statistic):</th> <td>1.12e-82</td>\n",
       "</tr>\n",
       "<tr>\n",
       "  <th>Time:</th>                 <td>16:09:06</td>     <th>  Log-Likelihood:    </th> <td> -199.41</td>\n",
       "</tr>\n",
       "<tr>\n",
       "  <th>No. Observations:</th>      <td>   111</td>      <th>  AIC:               </th> <td>   410.8</td>\n",
       "</tr>\n",
       "<tr>\n",
       "  <th>Df Residuals:</th>          <td>   105</td>      <th>  BIC:               </th> <td>   427.1</td>\n",
       "</tr>\n",
       "<tr>\n",
       "  <th>Df Model:</th>              <td>     5</td>      <th>                     </th>     <td> </td>   \n",
       "</tr>\n",
       "<tr>\n",
       "  <th>Covariance Type:</th>      <td>nonrobust</td>    <th>                     </th>     <td> </td>   \n",
       "</tr>\n",
       "</table>\n",
       "<table class=\"simpletable\">\n",
       "<tr>\n",
       "      <td></td>         <th>coef</th>     <th>std err</th>      <th>t</th>      <th>P>|t|</th>  <th>[0.025</th>    <th>0.975]</th>  \n",
       "</tr>\n",
       "<tr>\n",
       "  <th>Intercept</th> <td>  -32.2825</td> <td>    0.978</td> <td>  -32.997</td> <td> 0.000</td> <td>  -34.222</td> <td>  -30.343</td>\n",
       "</tr>\n",
       "<tr>\n",
       "  <th>Length1</th>   <td>    5.5150</td> <td>    5.596</td> <td>    0.985</td> <td> 0.327</td> <td>   -5.581</td> <td>   16.611</td>\n",
       "</tr>\n",
       "<tr>\n",
       "  <th>Length2</th>   <td>   -0.7777</td> <td>    5.387</td> <td>   -0.144</td> <td> 0.885</td> <td>  -11.459</td> <td>    9.904</td>\n",
       "</tr>\n",
       "<tr>\n",
       "  <th>Length3</th>   <td>   -0.5499</td> <td>    2.289</td> <td>   -0.240</td> <td> 0.811</td> <td>   -5.089</td> <td>    3.990</td>\n",
       "</tr>\n",
       "<tr>\n",
       "  <th>Height</th>    <td>    1.8532</td> <td>    0.636</td> <td>    2.914</td> <td> 0.004</td> <td>    0.592</td> <td>    3.114</td>\n",
       "</tr>\n",
       "<tr>\n",
       "  <th>Width</th>     <td>   11.4578</td> <td>    1.231</td> <td>    9.310</td> <td> 0.000</td> <td>    9.018</td> <td>   13.898</td>\n",
       "</tr>\n",
       "</table>\n",
       "<table class=\"simpletable\">\n",
       "<tr>\n",
       "  <th>Omnibus:</th>       <td>39.586</td> <th>  Durbin-Watson:     </th> <td>   2.111</td>\n",
       "</tr>\n",
       "<tr>\n",
       "  <th>Prob(Omnibus):</th> <td> 0.000</td> <th>  Jarque-Bera (JB):  </th> <td> 134.017</td>\n",
       "</tr>\n",
       "<tr>\n",
       "  <th>Skew:</th>          <td> 1.196</td> <th>  Prob(JB):          </th> <td>7.92e-30</td>\n",
       "</tr>\n",
       "<tr>\n",
       "  <th>Kurtosis:</th>      <td> 7.822</td> <th>  Cond. No.          </th> <td>    537.</td>\n",
       "</tr>\n",
       "</table><br/><br/>Notes:<br/>[1] Standard Errors assume that the covariance matrix of the errors is correctly specified."
      ],
      "text/plain": [
       "<class 'statsmodels.iolib.summary.Summary'>\n",
       "\"\"\"\n",
       "                            OLS Regression Results                            \n",
       "==============================================================================\n",
       "Dep. Variable:                 Weight   R-squared:                       0.975\n",
       "Model:                            OLS   Adj. R-squared:                  0.974\n",
       "Method:                 Least Squares   F-statistic:                     830.1\n",
       "Date:                Tue, 24 May 2022   Prob (F-statistic):           1.12e-82\n",
       "Time:                        16:09:06   Log-Likelihood:                -199.41\n",
       "No. Observations:                 111   AIC:                             410.8\n",
       "Df Residuals:                     105   BIC:                             427.1\n",
       "Df Model:                           5                                         \n",
       "Covariance Type:            nonrobust                                         \n",
       "==============================================================================\n",
       "                 coef    std err          t      P>|t|      [0.025      0.975]\n",
       "------------------------------------------------------------------------------\n",
       "Intercept    -32.2825      0.978    -32.997      0.000     -34.222     -30.343\n",
       "Length1        5.5150      5.596      0.985      0.327      -5.581      16.611\n",
       "Length2       -0.7777      5.387     -0.144      0.885     -11.459       9.904\n",
       "Length3       -0.5499      2.289     -0.240      0.811      -5.089       3.990\n",
       "Height         1.8532      0.636      2.914      0.004       0.592       3.114\n",
       "Width         11.4578      1.231      9.310      0.000       9.018      13.898\n",
       "==============================================================================\n",
       "Omnibus:                       39.586   Durbin-Watson:                   2.111\n",
       "Prob(Omnibus):                  0.000   Jarque-Bera (JB):              134.017\n",
       "Skew:                           1.196   Prob(JB):                     7.92e-30\n",
       "Kurtosis:                       7.822   Cond. No.                         537.\n",
       "==============================================================================\n",
       "\n",
       "Notes:\n",
       "[1] Standard Errors assume that the covariance matrix of the errors is correctly specified.\n",
       "\"\"\""
      ]
     },
     "execution_count": 18,
     "metadata": {},
     "output_type": "execute_result"
    }
   ],
   "source": [
    "import statsmodels.formula.api as smf\n",
    "model = smf.ols('Weight ~ Length1+Length2+Length3+Height+Width',data=result).fit()\n",
    "model.summary()"
   ]
  },
  {
   "cell_type": "code",
   "execution_count": 21,
   "id": "e52b4148",
   "metadata": {},
   "outputs": [
    {
     "data": {
      "text/html": [
       "<table class=\"simpletable\">\n",
       "<caption>OLS Regression Results</caption>\n",
       "<tr>\n",
       "  <th>Dep. Variable:</th>         <td>Weight</td>      <th>  R-squared:         </th> <td>   0.933</td>\n",
       "</tr>\n",
       "<tr>\n",
       "  <th>Model:</th>                   <td>OLS</td>       <th>  Adj. R-squared:    </th> <td>   0.932</td>\n",
       "</tr>\n",
       "<tr>\n",
       "  <th>Method:</th>             <td>Least Squares</td>  <th>  F-statistic:       </th> <td>   750.8</td>\n",
       "</tr>\n",
       "<tr>\n",
       "  <th>Date:</th>             <td>Tue, 24 May 2022</td> <th>  Prob (F-statistic):</th> <td>4.38e-64</td>\n",
       "</tr>\n",
       "<tr>\n",
       "  <th>Time:</th>                 <td>16:10:03</td>     <th>  Log-Likelihood:    </th> <td> -254.93</td>\n",
       "</tr>\n",
       "<tr>\n",
       "  <th>No. Observations:</th>      <td>   111</td>      <th>  AIC:               </th> <td>   515.9</td>\n",
       "</tr>\n",
       "<tr>\n",
       "  <th>Df Residuals:</th>          <td>   108</td>      <th>  BIC:               </th> <td>   524.0</td>\n",
       "</tr>\n",
       "<tr>\n",
       "  <th>Df Model:</th>              <td>     2</td>      <th>                     </th>     <td> </td>   \n",
       "</tr>\n",
       "<tr>\n",
       "  <th>Covariance Type:</th>      <td>nonrobust</td>    <th>                     </th>     <td> </td>   \n",
       "</tr>\n",
       "</table>\n",
       "<table class=\"simpletable\">\n",
       "<tr>\n",
       "      <td></td>         <th>coef</th>     <th>std err</th>      <th>t</th>      <th>P>|t|</th>  <th>[0.025</th>    <th>0.975]</th>  \n",
       "</tr>\n",
       "<tr>\n",
       "  <th>Intercept</th> <td>  -33.9155</td> <td>    1.418</td> <td>  -23.920</td> <td> 0.000</td> <td>  -36.726</td> <td>  -31.105</td>\n",
       "</tr>\n",
       "<tr>\n",
       "  <th>Height</th>    <td>    1.4403</td> <td>    0.523</td> <td>    2.753</td> <td> 0.007</td> <td>    0.403</td> <td>    2.477</td>\n",
       "</tr>\n",
       "<tr>\n",
       "  <th>Width</th>     <td>   22.6835</td> <td>    1.090</td> <td>   20.817</td> <td> 0.000</td> <td>   20.524</td> <td>   24.843</td>\n",
       "</tr>\n",
       "</table>\n",
       "<table class=\"simpletable\">\n",
       "<tr>\n",
       "  <th>Omnibus:</th>       <td>64.706</td> <th>  Durbin-Watson:     </th> <td>   1.870</td>\n",
       "</tr>\n",
       "<tr>\n",
       "  <th>Prob(Omnibus):</th> <td> 0.000</td> <th>  Jarque-Bera (JB):  </th> <td> 330.967</td>\n",
       "</tr>\n",
       "<tr>\n",
       "  <th>Skew:</th>          <td> 1.924</td> <th>  Prob(JB):          </th> <td>1.35e-72</td>\n",
       "</tr>\n",
       "<tr>\n",
       "  <th>Kurtosis:</th>      <td>10.534</td> <th>  Cond. No.          </th> <td>    27.9</td>\n",
       "</tr>\n",
       "</table><br/><br/>Notes:<br/>[1] Standard Errors assume that the covariance matrix of the errors is correctly specified."
      ],
      "text/plain": [
       "<class 'statsmodels.iolib.summary.Summary'>\n",
       "\"\"\"\n",
       "                            OLS Regression Results                            \n",
       "==============================================================================\n",
       "Dep. Variable:                 Weight   R-squared:                       0.933\n",
       "Model:                            OLS   Adj. R-squared:                  0.932\n",
       "Method:                 Least Squares   F-statistic:                     750.8\n",
       "Date:                Tue, 24 May 2022   Prob (F-statistic):           4.38e-64\n",
       "Time:                        16:10:03   Log-Likelihood:                -254.93\n",
       "No. Observations:                 111   AIC:                             515.9\n",
       "Df Residuals:                     108   BIC:                             524.0\n",
       "Df Model:                           2                                         \n",
       "Covariance Type:            nonrobust                                         \n",
       "==============================================================================\n",
       "                 coef    std err          t      P>|t|      [0.025      0.975]\n",
       "------------------------------------------------------------------------------\n",
       "Intercept    -33.9155      1.418    -23.920      0.000     -36.726     -31.105\n",
       "Height         1.4403      0.523      2.753      0.007       0.403       2.477\n",
       "Width         22.6835      1.090     20.817      0.000      20.524      24.843\n",
       "==============================================================================\n",
       "Omnibus:                       64.706   Durbin-Watson:                   1.870\n",
       "Prob(Omnibus):                  0.000   Jarque-Bera (JB):              330.967\n",
       "Skew:                           1.924   Prob(JB):                     1.35e-72\n",
       "Kurtosis:                      10.534   Cond. No.                         27.9\n",
       "==============================================================================\n",
       "\n",
       "Notes:\n",
       "[1] Standard Errors assume that the covariance matrix of the errors is correctly specified.\n",
       "\"\"\""
      ]
     },
     "execution_count": 21,
     "metadata": {},
     "output_type": "execute_result"
    }
   ],
   "source": [
    "model2 = smf.ols('Weight ~ Height+Width',data=result).fit()\n",
    "model2.summary()"
   ]
  },
  {
   "cell_type": "code",
   "execution_count": 19,
   "id": "6d0dfc95",
   "metadata": {},
   "outputs": [
    {
     "data": {
      "text/plain": [
       "Height    43.708244\n",
       "Width     43.708244\n",
       "dtype: float64"
      ]
     },
     "execution_count": 19,
     "metadata": {},
     "output_type": "execute_result"
    }
   ],
   "source": [
    "X1=result.loc[:,['Height', 'Width']]\n",
    "series_before = pd.Series([variance_inflation_factor(X1.values, i) \n",
    "                           for i in range(X1.shape[1])], \n",
    "                          index=X1.columns)\n",
    "series_before"
   ]
  },
  {
   "cell_type": "code",
   "execution_count": 23,
   "id": "2659b67d",
   "metadata": {},
   "outputs": [
    {
     "data": {
      "text/html": [
       "<div>\n",
       "<style scoped>\n",
       "    .dataframe tbody tr th:only-of-type {\n",
       "        vertical-align: middle;\n",
       "    }\n",
       "\n",
       "    .dataframe tbody tr th {\n",
       "        vertical-align: top;\n",
       "    }\n",
       "\n",
       "    .dataframe thead th {\n",
       "        text-align: right;\n",
       "    }\n",
       "</style>\n",
       "<table border=\"1\" class=\"dataframe\">\n",
       "  <thead>\n",
       "    <tr style=\"text-align: right;\">\n",
       "      <th></th>\n",
       "      <th>Weight</th>\n",
       "      <th>Length1</th>\n",
       "      <th>Length2</th>\n",
       "      <th>Length3</th>\n",
       "      <th>Height</th>\n",
       "      <th>Width</th>\n",
       "      <th>fitted_value</th>\n",
       "      <th>residual</th>\n",
       "    </tr>\n",
       "  </thead>\n",
       "  <tbody>\n",
       "    <tr>\n",
       "      <th>53</th>\n",
       "      <td>16.492423</td>\n",
       "      <td>5.000000</td>\n",
       "      <td>5.196152</td>\n",
       "      <td>5.531727</td>\n",
       "      <td>2.927115</td>\n",
       "      <td>2.184857</td>\n",
       "      <td>19.860679</td>\n",
       "      <td>-3.368257</td>\n",
       "    </tr>\n",
       "    <tr>\n",
       "      <th>117</th>\n",
       "      <td>25.495098</td>\n",
       "      <td>6.041523</td>\n",
       "      <td>6.244998</td>\n",
       "      <td>6.434283</td>\n",
       "      <td>3.337154</td>\n",
       "      <td>2.450102</td>\n",
       "      <td>26.467952</td>\n",
       "      <td>-0.972854</td>\n",
       "    </tr>\n",
       "    <tr>\n",
       "      <th>136</th>\n",
       "      <td>23.237900</td>\n",
       "      <td>6.332456</td>\n",
       "      <td>6.557439</td>\n",
       "      <td>6.767570</td>\n",
       "      <td>2.790340</td>\n",
       "      <td>2.264862</td>\n",
       "      <td>21.478481</td>\n",
       "      <td>1.759419</td>\n",
       "    </tr>\n",
       "    <tr>\n",
       "      <th>17</th>\n",
       "      <td>26.457513</td>\n",
       "      <td>5.513620</td>\n",
       "      <td>5.744563</td>\n",
       "      <td>6.204837</td>\n",
       "      <td>3.864971</td>\n",
       "      <td>2.279803</td>\n",
       "      <td>23.365171</td>\n",
       "      <td>3.092342</td>\n",
       "    </tr>\n",
       "    <tr>\n",
       "      <th>77</th>\n",
       "      <td>10.000000</td>\n",
       "      <td>4.024922</td>\n",
       "      <td>4.242641</td>\n",
       "      <td>4.381780</td>\n",
       "      <td>2.285257</td>\n",
       "      <td>1.822526</td>\n",
       "      <td>10.717263</td>\n",
       "      <td>-0.717263</td>\n",
       "    </tr>\n",
       "  </tbody>\n",
       "</table>\n",
       "</div>"
      ],
      "text/plain": [
       "        Weight   Length1   Length2   Length3    Height     Width  \\\n",
       "53   16.492423  5.000000  5.196152  5.531727  2.927115  2.184857   \n",
       "117  25.495098  6.041523  6.244998  6.434283  3.337154  2.450102   \n",
       "136  23.237900  6.332456  6.557439  6.767570  2.790340  2.264862   \n",
       "17   26.457513  5.513620  5.744563  6.204837  3.864971  2.279803   \n",
       "77   10.000000  4.024922  4.242641  4.381780  2.285257  1.822526   \n",
       "\n",
       "     fitted_value  residual  \n",
       "53      19.860679 -3.368257  \n",
       "117     26.467952 -0.972854  \n",
       "136     21.478481  1.759419  \n",
       "17      23.365171  3.092342  \n",
       "77      10.717263 -0.717263  "
      ]
     },
     "execution_count": 23,
     "metadata": {},
     "output_type": "execute_result"
    }
   ],
   "source": [
    "result['fitted_value']=model2.fittedvalues #Predicted Value\n",
    "result['residual']=model2.resid  #Error\n",
    "result.head()"
   ]
  },
  {
   "cell_type": "markdown",
   "id": "e23859c7",
   "metadata": {},
   "source": [
    "# Linearity"
   ]
  },
  {
   "cell_type": "code",
   "execution_count": 24,
   "id": "47d2a889",
   "metadata": {},
   "outputs": [
    {
     "data": {
      "text/plain": [
       "<AxesSubplot:title={'center':'Weight vs Height'}, xlabel='Height', ylabel='Weight'>"
      ]
     },
     "execution_count": 24,
     "metadata": {},
     "output_type": "execute_result"
    },
    {
     "data": {
      "image/png": "[encoded data removed]",
      "text/plain": [
       "<Figure size 432x288 with 1 Axes>"
      ]
     },
     "metadata": {
      "needs_background": "light"
     },
     "output_type": "display_data"
    }
   ],
   "source": [
    "result.plot.scatter(x='Height', y='Weight', title='Weight vs Height')"
   ]
  },
  {
   "cell_type": "markdown",
   "id": "027e116c",
   "metadata": {},
   "source": [
    "# Homoscedasity"
   ]
  },
  {
   "cell_type": "code",
   "execution_count": 26,
   "id": "07ddcd3c",
   "metadata": {},
   "outputs": [
    {
     "data": {
      "text/plain": [
       "<AxesSubplot:xlabel='fitted_value', ylabel='residual'>"
      ]
     },
     "execution_count": 26,
     "metadata": {},
     "output_type": "execute_result"
    },
    {
     "data": {
      "image/png": "[encoded data removed]",
      "text/plain": [
       "<Figure size 432x288 with 1 Axes>"
      ]
     },
     "metadata": {
      "needs_background": "light"
     },
     "output_type": "display_data"
    }
   ],
   "source": [
    "sns.scatterplot(x='fitted_value', y='residual',data=result)"
   ]
  },
  {
   "cell_type": "markdown",
   "id": "a6f3f9b9",
   "metadata": {},
   "source": [
    "# Normality"
   ]
  },
  {
   "cell_type": "code",
   "execution_count": 27,
   "id": "56917913",
   "metadata": {},
   "outputs": [
    {
     "data": {
      "image/png": "[encoded data removed]",
      "text/plain": [
       "<Figure size 432x288 with 1 Axes>"
      ]
     },
     "metadata": {
      "needs_background": "light"
     },
     "output_type": "display_data"
    }
   ],
   "source": [
    "import statsmodels.api as sm\n",
    "fig = sm.qqplot(result['residual'], fit=True, line='s')\n",
    "plt.show()"
   ]
  },
  {
   "cell_type": "markdown",
   "id": "db3a301c",
   "metadata": {},
   "source": [
    "# Model error are IID"
   ]
  },
  {
   "cell_type": "code",
   "execution_count": 28,
   "id": "25eea969",
   "metadata": {},
   "outputs": [
    {
     "data": {
      "text/plain": [
       "<AxesSubplot:ylabel='Frequency'>"
      ]
     },
     "execution_count": 28,
     "metadata": {},
     "output_type": "execute_result"
    },
    {
     "data": {
      "image/png": "[encoded data removed]",
      "text/plain": [
       "<Figure size 432x288 with 1 Axes>"
      ]
     },
     "metadata": {
      "needs_background": "light"
     },
     "output_type": "display_data"
    }
   ],
   "source": [
    "result['residual'].plot.hist()"
   ]
  },
  {
   "cell_type": "markdown",
   "id": "66322b67",
   "metadata": {},
   "source": [
    "# Prediction on Test"
   ]
  },
  {
   "cell_type": "code",
   "execution_count": 31,
   "id": "ec376a4c",
   "metadata": {},
   "outputs": [
    {
     "data": {
      "text/html": [
       "<div>\n",
       "<style scoped>\n",
       "    .dataframe tbody tr th:only-of-type {\n",
       "        vertical-align: middle;\n",
       "    }\n",
       "\n",
       "    .dataframe tbody tr th {\n",
       "        vertical-align: top;\n",
       "    }\n",
       "\n",
       "    .dataframe thead th {\n",
       "        text-align: right;\n",
       "    }\n",
       "</style>\n",
       "<table border=\"1\" class=\"dataframe\">\n",
       "  <thead>\n",
       "    <tr style=\"text-align: right;\">\n",
       "      <th></th>\n",
       "      <th>Length1</th>\n",
       "      <th>Length2</th>\n",
       "      <th>Length3</th>\n",
       "      <th>Height</th>\n",
       "      <th>Width</th>\n",
       "      <th>Weight</th>\n",
       "    </tr>\n",
       "  </thead>\n",
       "  <tbody>\n",
       "    <tr>\n",
       "      <th>29</th>\n",
       "      <td>5.787918</td>\n",
       "      <td>6.082763</td>\n",
       "      <td>6.526868</td>\n",
       "      <td>4.353964</td>\n",
       "      <td>2.569630</td>\n",
       "      <td>31.622777</td>\n",
       "    </tr>\n",
       "    <tr>\n",
       "      <th>42</th>\n",
       "      <td>4.404543</td>\n",
       "      <td>4.582576</td>\n",
       "      <td>4.868265</td>\n",
       "      <td>2.472772</td>\n",
       "      <td>1.815021</td>\n",
       "      <td>10.954451</td>\n",
       "    </tr>\n",
       "    <tr>\n",
       "      <th>14</th>\n",
       "      <td>5.422177</td>\n",
       "      <td>5.656854</td>\n",
       "      <td>6.099180</td>\n",
       "      <td>3.867092</td>\n",
       "      <td>2.273939</td>\n",
       "      <td>24.494897</td>\n",
       "    </tr>\n",
       "    <tr>\n",
       "      <th>91</th>\n",
       "      <td>4.527693</td>\n",
       "      <td>4.743416</td>\n",
       "      <td>4.898979</td>\n",
       "      <td>2.419917</td>\n",
       "      <td>1.903681</td>\n",
       "      <td>11.401754</td>\n",
       "    </tr>\n",
       "    <tr>\n",
       "      <th>81</th>\n",
       "      <td>4.266146</td>\n",
       "      <td>4.472136</td>\n",
       "      <td>4.582576</td>\n",
       "      <td>2.254329</td>\n",
       "      <td>1.664932</td>\n",
       "      <td>9.219544</td>\n",
       "    </tr>\n",
       "  </tbody>\n",
       "</table>\n",
       "</div>"
      ],
      "text/plain": [
       "     Length1   Length2   Length3    Height     Width     Weight\n",
       "29  5.787918  6.082763  6.526868  4.353964  2.569630  31.622777\n",
       "42  4.404543  4.582576  4.868265  2.472772  1.815021  10.954451\n",
       "14  5.422177  5.656854  6.099180  3.867092  2.273939  24.494897\n",
       "91  4.527693  4.743416  4.898979  2.419917  1.903681  11.401754\n",
       "81  4.266146  4.472136  4.582576  2.254329  1.664932   9.219544"
      ]
     },
     "execution_count": 31,
     "metadata": {},
     "output_type": "execute_result"
    }
   ],
   "source": [
    "result_test=pd.concat([x_test,y_test],axis=1)\n",
    "\n",
    "result_test.head()"
   ]
  },
  {
   "cell_type": "code",
   "execution_count": 32,
   "id": "96089f7a",
   "metadata": {},
   "outputs": [
    {
     "data": {
      "text/html": [
       "<div>\n",
       "<style scoped>\n",
       "    .dataframe tbody tr th:only-of-type {\n",
       "        vertical-align: middle;\n",
       "    }\n",
       "\n",
       "    .dataframe tbody tr th {\n",
       "        vertical-align: top;\n",
       "    }\n",
       "\n",
       "    .dataframe thead th {\n",
       "        text-align: right;\n",
       "    }\n",
       "</style>\n",
       "<table border=\"1\" class=\"dataframe\">\n",
       "  <thead>\n",
       "    <tr style=\"text-align: right;\">\n",
       "      <th></th>\n",
       "      <th>Length1</th>\n",
       "      <th>Length2</th>\n",
       "      <th>Length3</th>\n",
       "      <th>Height</th>\n",
       "      <th>Width</th>\n",
       "      <th>Weight</th>\n",
       "      <th>Prediction</th>\n",
       "    </tr>\n",
       "  </thead>\n",
       "  <tbody>\n",
       "    <tr>\n",
       "      <th>29</th>\n",
       "      <td>5.787918</td>\n",
       "      <td>6.082763</td>\n",
       "      <td>6.526868</td>\n",
       "      <td>4.353964</td>\n",
       "      <td>2.569630</td>\n",
       "      <td>31.622777</td>\n",
       "      <td>30.643780</td>\n",
       "    </tr>\n",
       "    <tr>\n",
       "      <th>42</th>\n",
       "      <td>4.404543</td>\n",
       "      <td>4.582576</td>\n",
       "      <td>4.868265</td>\n",
       "      <td>2.472772</td>\n",
       "      <td>1.815021</td>\n",
       "      <td>10.954451</td>\n",
       "      <td>10.817098</td>\n",
       "    </tr>\n",
       "    <tr>\n",
       "      <th>14</th>\n",
       "      <td>5.422177</td>\n",
       "      <td>5.656854</td>\n",
       "      <td>6.099180</td>\n",
       "      <td>3.867092</td>\n",
       "      <td>2.273939</td>\n",
       "      <td>24.494897</td>\n",
       "      <td>23.235225</td>\n",
       "    </tr>\n",
       "    <tr>\n",
       "      <th>91</th>\n",
       "      <td>4.527693</td>\n",
       "      <td>4.743416</td>\n",
       "      <td>4.898979</td>\n",
       "      <td>2.419917</td>\n",
       "      <td>1.903681</td>\n",
       "      <td>11.401754</td>\n",
       "      <td>12.752094</td>\n",
       "    </tr>\n",
       "    <tr>\n",
       "      <th>81</th>\n",
       "      <td>4.266146</td>\n",
       "      <td>4.472136</td>\n",
       "      <td>4.582576</td>\n",
       "      <td>2.254329</td>\n",
       "      <td>1.664932</td>\n",
       "      <td>9.219544</td>\n",
       "      <td>7.097946</td>\n",
       "    </tr>\n",
       "  </tbody>\n",
       "</table>\n",
       "</div>"
      ],
      "text/plain": [
       "     Length1   Length2   Length3    Height     Width     Weight  Prediction\n",
       "29  5.787918  6.082763  6.526868  4.353964  2.569630  31.622777   30.643780\n",
       "42  4.404543  4.582576  4.868265  2.472772  1.815021  10.954451   10.817098\n",
       "14  5.422177  5.656854  6.099180  3.867092  2.273939  24.494897   23.235225\n",
       "91  4.527693  4.743416  4.898979  2.419917  1.903681  11.401754   12.752094\n",
       "81  4.266146  4.472136  4.582576  2.254329  1.664932   9.219544    7.097946"
      ]
     },
     "execution_count": 32,
     "metadata": {},
     "output_type": "execute_result"
    }
   ],
   "source": [
    "result_test['Prediction']=model2.predict(result_test) # predict = all row prediction ( Auto )\n",
    "result_test.head()"
   ]
  },
  {
   "cell_type": "markdown",
   "id": "e3d8707c",
   "metadata": {},
   "source": [
    "# RMSE for evaluation of model on train data"
   ]
  },
  {
   "cell_type": "code",
   "execution_count": 33,
   "id": "d4b8827f",
   "metadata": {},
   "outputs": [
    {
     "name": "stdout",
     "output_type": "stream",
     "text": [
      "RMSE 2.41\n"
     ]
    }
   ],
   "source": [
    "import math\n",
    "from sklearn.metrics import mean_squared_error\n",
    "\n",
    "# calculate the mean squared error\n",
    "model_mse = mean_squared_error(result['Weight'],result['fitted_value'])\n",
    "\n",
    "# calulcate the root mean squared error\n",
    "model_rmse = math.sqrt(model_mse)\n",
    "# display the output\n",
    "print(\"RMSE {:.3}\".format(model_rmse))"
   ]
  },
  {
   "cell_type": "markdown",
   "id": "65239a5e",
   "metadata": {},
   "source": [
    "# RMSE for evaluation of model on test data"
   ]
  },
  {
   "cell_type": "code",
   "execution_count": 34,
   "id": "80add3eb",
   "metadata": {},
   "outputs": [
    {
     "name": "stdout",
     "output_type": "stream",
     "text": [
      "RMSE 3.85\n"
     ]
    }
   ],
   "source": [
    "import math\n",
    "from sklearn.metrics import mean_squared_error\n",
    "\n",
    "# calculate the mean squared error\n",
    "model_mse = mean_squared_error(result['Height'],result['residual'])\n",
    "\n",
    "# calulcate the root mean squared error\n",
    "model_rmse = math.sqrt(model_mse)\n",
    "# display the output\n",
    "print(\"RMSE {:.3}\".format(model_rmse))"
   ]
  }
 ],
 "metadata": {
  "kernelspec": {
   "display_name": "Python 3 (ipykernel)",
   "language": "python",
   "name": "python3"
  },
  "language_info": {
   "codemirror_mode": {
    "name": "ipython",
    "version": 3
   },
   "file_extension": ".py",
   "mimetype": "text/x-python",
   "name": "python",
   "nbconvert_exporter": "python",
   "pygments_lexer": "ipython3",
   "version": "3.9.7"
  }
 },
 "nbformat": 4,
 "nbformat_minor": 5
}
